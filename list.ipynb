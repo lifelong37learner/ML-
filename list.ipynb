{
 "cells": [
  {
   "cell_type": "code",
   "execution_count": 17,
   "metadata": {},
   "outputs": [
    {
     "name": "stdout",
     "output_type": "stream",
     "text": [
      "[1, 2, 3, 4]\n",
      "<class 'list'>\n",
      "1\n",
      "[1, 2]\n",
      "[2, 3, 4]\n",
      "[1, 2, 3, 4, 'c']\n",
      "[1, 2, 3, 4, 'c', 'b']\n",
      "[1, 'kk', 3, 4, 'c']\n",
      "[1, 3, 4, 'c']\n",
      "------\n",
      "[1, 2, 3, 4, 'a', 'b', [1, 2, 3]]\n",
      "<class 'list'>\n",
      "1\n"
     ]
    }
   ],
   "source": [
    "__author__ = \"liujr\"\n",
    "__date__ = \"2020.5.10 13:46\"\n",
    "\n",
    "list1 = [1, 2, 3, 4]\n",
    "print(list1)\n",
    "print(type(list1))\n",
    "\n",
    "# 访问\n",
    "print(list1[0])\n",
    "print(list1[0:2])\n",
    "print(list1[1:])\n",
    "# 添加\n",
    "list1.append(\"c\")\n",
    "print(list1)\n",
    "print(list1 + ['b'])\n",
    "#更新\n",
    "list1[1] = 'kk'\n",
    "print(list1)\n",
    "# 删除\n",
    "del list1[1]\n",
    "print(list1)\n",
    "print(\"------\")\n",
    "\n",
    "list2 = [1, 2, 3, 4, 'a', 'b', [1, 2, 3]] # 嵌套列表\n",
    "print(list2)\n",
    "print(type(list2))\n",
    "print(list2[6][0])"
   ]
  },
  {
   "cell_type": "code",
   "execution_count": null,
   "metadata": {},
   "outputs": [],
   "source": [
    "# list\n",
    "\n",
    "list1 = [1, 2, 3, 4]\n",
    "# print(list1)\n",
    "# print(type(list1))\n",
    "# 访问\n",
    "# print(list1[0])\n",
    "# print(list1[0:2])\n",
    "# print(list1[1:])\n",
    "# 添加\n",
    "# list1.append(\"a\")\n",
    "# print(list1)\n",
    "# print(list1 + ['b'])\n",
    "\n",
    "# 更新\n",
    "# list1[1] = \"l1\"\n",
    "# print(list1)\n",
    "# # 删除\n",
    "# del list1[1]\n",
    "# print(list1)\n",
    "\n",
    "list1 = [1, 2, 3, 4, 'a', 'b', [1, 2, 3]] # 嵌套列表\n",
    "# print(list1)\n",
    "# print(type(list1))\n",
    "print(list1[6][0])"
   ]
  }
 ],
 "metadata": {
  "kernelspec": {
   "display_name": "Python 3",
   "language": "python",
   "name": "python3"
  },
  "language_info": {
   "codemirror_mode": {
    "name": "ipython",
    "version": 3
   },
   "file_extension": ".py",
   "mimetype": "text/x-python",
   "name": "python",
   "nbconvert_exporter": "python",
   "pygments_lexer": "ipython3",
   "version": "3.7.3"
  }
 },
 "nbformat": 4,
 "nbformat_minor": 2
}
